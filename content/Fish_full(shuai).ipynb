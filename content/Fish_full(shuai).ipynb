{
  "metadata": {
    "language_info": {
      "codemirror_mode": {
        "name": "python",
        "version": 3
      },
      "file_extension": ".py",
      "mimetype": "text/x-python",
      "name": "python",
      "nbconvert_exporter": "python",
      "pygments_lexer": "ipython3",
      "version": "3.8"
    },
    "kernelspec": {
      "name": "python",
      "display_name": "Python (Pyodide)",
      "language": "python"
    }
  },
  "nbformat_minor": 4,
  "nbformat": 4,
  "cells": [
    {
      "cell_type": "code",
      "source": "import pandas as pd",
      "metadata": {
        "trusted": true
      },
      "execution_count": 1,
      "outputs": []
    },
    {
      "cell_type": "code",
      "source": "data=pd.read_csv(\"data/Fish_full(shuai).csv\")\ndata",
      "metadata": {
        "trusted": true
      },
      "execution_count": 3,
      "outputs": [
        {
          "execution_count": 3,
          "output_type": "execute_result",
          "data": {
            "text/plain": "     Weight Species  Body Height  Total Length  Diagonal Length   Height  \\\n0     300.0    Pike         34.8          37.3             39.8   6.2884   \n1     242.0   Bream         23.2          25.4             30.0  11.5200   \n2     500.0   Bream         29.1          31.5             36.4  13.7592   \n3     600.0   Bream         29.4          32.0             37.2  15.4380   \n4     345.0    Pike         36.0          38.5             41.0   6.3960   \n..      ...     ...          ...           ...              ...      ...   \n154    40.0   Perch         13.8          15.0             16.0   3.8240   \n155   200.0    Pike         30.0          32.3             34.8   5.5680   \n156   540.0    Pike         40.1          43.0             45.8   7.7860   \n157   150.0  Parkki         18.4          20.0             22.4   8.8928   \n158     9.8   Smelt         11.4          12.0             13.2   2.2044   \n\n      Width  \n0    4.0198  \n1    4.0200  \n2    4.3680  \n3    5.5800  \n4    3.9770  \n..      ...  \n154  2.4320  \n155  3.3756  \n156  5.1296  \n157  3.2928  \n158  1.1484  \n\n[159 rows x 7 columns]",
            "text/html": "<div>\n<style scoped>\n    .dataframe tbody tr th:only-of-type {\n        vertical-align: middle;\n    }\n\n    .dataframe tbody tr th {\n        vertical-align: top;\n    }\n\n    .dataframe thead th {\n        text-align: right;\n    }\n</style>\n<table border=\"1\" class=\"dataframe\">\n  <thead>\n    <tr style=\"text-align: right;\">\n      <th></th>\n      <th>Weight</th>\n      <th>Species</th>\n      <th>Body Height</th>\n      <th>Total Length</th>\n      <th>Diagonal Length</th>\n      <th>Height</th>\n      <th>Width</th>\n    </tr>\n  </thead>\n  <tbody>\n    <tr>\n      <th>0</th>\n      <td>300.0</td>\n      <td>Pike</td>\n      <td>34.8</td>\n      <td>37.3</td>\n      <td>39.8</td>\n      <td>6.2884</td>\n      <td>4.0198</td>\n    </tr>\n    <tr>\n      <th>1</th>\n      <td>242.0</td>\n      <td>Bream</td>\n      <td>23.2</td>\n      <td>25.4</td>\n      <td>30.0</td>\n      <td>11.5200</td>\n      <td>4.0200</td>\n    </tr>\n    <tr>\n      <th>2</th>\n      <td>500.0</td>\n      <td>Bream</td>\n      <td>29.1</td>\n      <td>31.5</td>\n      <td>36.4</td>\n      <td>13.7592</td>\n      <td>4.3680</td>\n    </tr>\n    <tr>\n      <th>3</th>\n      <td>600.0</td>\n      <td>Bream</td>\n      <td>29.4</td>\n      <td>32.0</td>\n      <td>37.2</td>\n      <td>15.4380</td>\n      <td>5.5800</td>\n    </tr>\n    <tr>\n      <th>4</th>\n      <td>345.0</td>\n      <td>Pike</td>\n      <td>36.0</td>\n      <td>38.5</td>\n      <td>41.0</td>\n      <td>6.3960</td>\n      <td>3.9770</td>\n    </tr>\n    <tr>\n      <th>...</th>\n      <td>...</td>\n      <td>...</td>\n      <td>...</td>\n      <td>...</td>\n      <td>...</td>\n      <td>...</td>\n      <td>...</td>\n    </tr>\n    <tr>\n      <th>154</th>\n      <td>40.0</td>\n      <td>Perch</td>\n      <td>13.8</td>\n      <td>15.0</td>\n      <td>16.0</td>\n      <td>3.8240</td>\n      <td>2.4320</td>\n    </tr>\n    <tr>\n      <th>155</th>\n      <td>200.0</td>\n      <td>Pike</td>\n      <td>30.0</td>\n      <td>32.3</td>\n      <td>34.8</td>\n      <td>5.5680</td>\n      <td>3.3756</td>\n    </tr>\n    <tr>\n      <th>156</th>\n      <td>540.0</td>\n      <td>Pike</td>\n      <td>40.1</td>\n      <td>43.0</td>\n      <td>45.8</td>\n      <td>7.7860</td>\n      <td>5.1296</td>\n    </tr>\n    <tr>\n      <th>157</th>\n      <td>150.0</td>\n      <td>Parkki</td>\n      <td>18.4</td>\n      <td>20.0</td>\n      <td>22.4</td>\n      <td>8.8928</td>\n      <td>3.2928</td>\n    </tr>\n    <tr>\n      <th>158</th>\n      <td>9.8</td>\n      <td>Smelt</td>\n      <td>11.4</td>\n      <td>12.0</td>\n      <td>13.2</td>\n      <td>2.2044</td>\n      <td>1.1484</td>\n    </tr>\n  </tbody>\n</table>\n<p>159 rows × 7 columns</p>\n</div>"
          },
          "metadata": {}
        }
      ]
    },
    {
      "cell_type": "code",
      "source": "species=data['Species'].unique()\nprint(species)",
      "metadata": {
        "trusted": true
      },
      "execution_count": 5,
      "outputs": [
        {
          "name": "stdout",
          "text": "['Pike' 'Bream' 'Perch' 'Roach' 'Smelt' 'Parkki' 'Whitefish']\n",
          "output_type": "stream"
        }
      ]
    },
    {
      "cell_type": "code",
      "source": "AvgWeight=data.groupby('Species').mean()[['Weight']].sort_values(by='Weight', ascending=False)\nprint(AvgWeight)",
      "metadata": {
        "trusted": true
      },
      "execution_count": 9,
      "outputs": [
        {
          "name": "stdout",
          "text": "               Weight\nSpecies              \nPike       718.705882\nBream      617.828571\nWhitefish  531.000000\nPerch      382.239286\nRoach      232.050000\nParkki     154.818182\nSmelt       11.178571\n",
          "output_type": "stream"
        }
      ]
    },
    {
      "cell_type": "code",
      "source": "",
      "metadata": {},
      "execution_count": null,
      "outputs": []
    }
  ]
}